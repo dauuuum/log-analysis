{
  "nbformat": 4,
  "nbformat_minor": 0,
  "metadata": {
    "accelerator": "GPU",
    "colab": {
      "name": "onlineshop-log-analysis.ipynb",
      "provenance": [],
      "collapsed_sections": [],
      "machine_shape": "hm",
      "include_colab_link": true
    },
    "interpreter": {
      "hash": "88e05a4d080c20eb8b3738eddc00f10a933e2eef525451712bb9959b488cfb22"
    },
    "kernelspec": {
      "display_name": "Python 3.8.8 64-bit ('dashboard_1020': conda)",
      "name": "python3"
    },
    "language_info": {
      "codemirror_mode": {
        "name": "ipython",
        "version": 3
      },
      "file_extension": ".py",
      "mimetype": "text/x-python",
      "name": "python",
      "nbconvert_exporter": "python",
      "pygments_lexer": "ipython3",
      "version": "3.8.8"
    }
  },
  "cells": [
    {
      "cell_type": "markdown",
      "metadata": {
        "id": "view-in-github",
        "colab_type": "text"
      },
      "source": [
        "<a href=\"https://colab.research.google.com/github/dauuuum/log-analysis/blob/main/onlineshop_log_analysis.ipynb\" target=\"_parent\"><img src=\"https://colab.research.google.com/assets/colab-badge.svg\" alt=\"Open In Colab\"/></a>"
      ]
    },
    {
      "cell_type": "markdown",
      "metadata": {
        "id": "94GwVPRPPIF0"
      },
      "source": [
        "### **Importing modules and data**"
      ]
    },
    {
      "cell_type": "code",
      "metadata": {
        "colab": {
          "base_uri": "https://localhost:8080/",
          "height": 1000
        },
        "id": "mcsPJus9odps",
        "outputId": "b7ed19c5-e43a-4837-9be3-4b0cf891abe6"
      },
      "source": [
        "import sys\n",
        "if 'google.colab' in sys.modules:\n",
        "    !pip install category_encoders==2.*\n",
        "    !pip install plotly==4.*\n",
        "    !pip install pdpbox"
      ],
      "execution_count": 1,
      "outputs": [
        {
          "output_type": "stream",
          "name": "stdout",
          "text": [
            "Collecting category_encoders==2.*\n",
            "  Downloading category_encoders-2.3.0-py2.py3-none-any.whl (82 kB)\n",
            "\u001b[?25l\r\u001b[K     |████                            | 10 kB 21.1 MB/s eta 0:00:01\r\u001b[K     |████████                        | 20 kB 26.4 MB/s eta 0:00:01\r\u001b[K     |████████████                    | 30 kB 18.0 MB/s eta 0:00:01\r\u001b[K     |████████████████                | 40 kB 15.6 MB/s eta 0:00:01\r\u001b[K     |████████████████████            | 51 kB 5.4 MB/s eta 0:00:01\r\u001b[K     |████████████████████████        | 61 kB 6.0 MB/s eta 0:00:01\r\u001b[K     |████████████████████████████    | 71 kB 5.4 MB/s eta 0:00:01\r\u001b[K     |███████████████████████████████▉| 81 kB 6.0 MB/s eta 0:00:01\r\u001b[K     |████████████████████████████████| 82 kB 164 kB/s \n",
            "\u001b[?25hRequirement already satisfied: pandas>=0.21.1 in /usr/local/lib/python3.7/dist-packages (from category_encoders==2.*) (1.1.5)\n",
            "Requirement already satisfied: scipy>=1.0.0 in /usr/local/lib/python3.7/dist-packages (from category_encoders==2.*) (1.4.1)\n",
            "Requirement already satisfied: patsy>=0.5.1 in /usr/local/lib/python3.7/dist-packages (from category_encoders==2.*) (0.5.2)\n",
            "Requirement already satisfied: numpy>=1.14.0 in /usr/local/lib/python3.7/dist-packages (from category_encoders==2.*) (1.19.5)\n",
            "Requirement already satisfied: statsmodels>=0.9.0 in /usr/local/lib/python3.7/dist-packages (from category_encoders==2.*) (0.10.2)\n",
            "Requirement already satisfied: scikit-learn>=0.20.0 in /usr/local/lib/python3.7/dist-packages (from category_encoders==2.*) (1.0.1)\n",
            "Requirement already satisfied: pytz>=2017.2 in /usr/local/lib/python3.7/dist-packages (from pandas>=0.21.1->category_encoders==2.*) (2018.9)\n",
            "Requirement already satisfied: python-dateutil>=2.7.3 in /usr/local/lib/python3.7/dist-packages (from pandas>=0.21.1->category_encoders==2.*) (2.8.2)\n",
            "Requirement already satisfied: six in /usr/local/lib/python3.7/dist-packages (from patsy>=0.5.1->category_encoders==2.*) (1.15.0)\n",
            "Requirement already satisfied: joblib>=0.11 in /usr/local/lib/python3.7/dist-packages (from scikit-learn>=0.20.0->category_encoders==2.*) (1.1.0)\n",
            "Requirement already satisfied: threadpoolctl>=2.0.0 in /usr/local/lib/python3.7/dist-packages (from scikit-learn>=0.20.0->category_encoders==2.*) (3.0.0)\n",
            "Installing collected packages: category-encoders\n",
            "Successfully installed category-encoders-2.3.0\n",
            "Requirement already satisfied: plotly==4.* in /usr/local/lib/python3.7/dist-packages (4.4.1)\n",
            "Requirement already satisfied: six in /usr/local/lib/python3.7/dist-packages (from plotly==4.*) (1.15.0)\n",
            "Requirement already satisfied: retrying>=1.3.3 in /usr/local/lib/python3.7/dist-packages (from plotly==4.*) (1.3.3)\n",
            "Collecting pdpbox\n",
            "  Downloading PDPbox-0.2.1.tar.gz (34.0 MB)\n",
            "\u001b[K     |████████████████████████████████| 34.0 MB 180 kB/s \n",
            "\u001b[?25hRequirement already satisfied: pandas in /usr/local/lib/python3.7/dist-packages (from pdpbox) (1.1.5)\n",
            "Requirement already satisfied: numpy in /usr/local/lib/python3.7/dist-packages (from pdpbox) (1.19.5)\n",
            "Requirement already satisfied: scipy in /usr/local/lib/python3.7/dist-packages (from pdpbox) (1.4.1)\n",
            "Requirement already satisfied: joblib in /usr/local/lib/python3.7/dist-packages (from pdpbox) (1.1.0)\n",
            "Requirement already satisfied: psutil in /usr/local/lib/python3.7/dist-packages (from pdpbox) (5.4.8)\n",
            "Collecting matplotlib==3.1.1\n",
            "  Downloading matplotlib-3.1.1-cp37-cp37m-manylinux1_x86_64.whl (13.1 MB)\n",
            "\u001b[K     |████████████████████████████████| 13.1 MB 25.5 MB/s \n",
            "\u001b[?25hRequirement already satisfied: sklearn in /usr/local/lib/python3.7/dist-packages (from pdpbox) (0.0)\n",
            "Requirement already satisfied: cycler>=0.10 in /usr/local/lib/python3.7/dist-packages (from matplotlib==3.1.1->pdpbox) (0.11.0)\n",
            "Requirement already satisfied: pyparsing!=2.0.4,!=2.1.2,!=2.1.6,>=2.0.1 in /usr/local/lib/python3.7/dist-packages (from matplotlib==3.1.1->pdpbox) (3.0.6)\n",
            "Requirement already satisfied: python-dateutil>=2.1 in /usr/local/lib/python3.7/dist-packages (from matplotlib==3.1.1->pdpbox) (2.8.2)\n",
            "Requirement already satisfied: kiwisolver>=1.0.1 in /usr/local/lib/python3.7/dist-packages (from matplotlib==3.1.1->pdpbox) (1.3.2)\n",
            "Requirement already satisfied: six>=1.5 in /usr/local/lib/python3.7/dist-packages (from python-dateutil>=2.1->matplotlib==3.1.1->pdpbox) (1.15.0)\n",
            "Requirement already satisfied: pytz>=2017.2 in /usr/local/lib/python3.7/dist-packages (from pandas->pdpbox) (2018.9)\n",
            "Requirement already satisfied: scikit-learn in /usr/local/lib/python3.7/dist-packages (from sklearn->pdpbox) (1.0.1)\n",
            "Requirement already satisfied: threadpoolctl>=2.0.0 in /usr/local/lib/python3.7/dist-packages (from scikit-learn->sklearn->pdpbox) (3.0.0)\n",
            "Building wheels for collected packages: pdpbox\n",
            "  Building wheel for pdpbox (setup.py) ... \u001b[?25l\u001b[?25hdone\n",
            "  Created wheel for pdpbox: filename=PDPbox-0.2.1-py3-none-any.whl size=35758225 sha256=0381829a6fd5a005ace3b46c116d6099e72f08d6fe7541ccb64739a27c903f31\n",
            "  Stored in directory: /root/.cache/pip/wheels/f4/d0/1a/b80035625c53131f52906a6fc4dd690d8efd2bf8af6a4015eb\n",
            "Successfully built pdpbox\n",
            "Installing collected packages: matplotlib, pdpbox\n",
            "  Attempting uninstall: matplotlib\n",
            "    Found existing installation: matplotlib 3.2.2\n",
            "    Uninstalling matplotlib-3.2.2:\n",
            "      Successfully uninstalled matplotlib-3.2.2\n",
            "\u001b[31mERROR: pip's dependency resolver does not currently take into account all the packages that are installed. This behaviour is the source of the following dependency conflicts.\n",
            "albumentations 0.1.12 requires imgaug<0.2.7,>=0.2.5, but you have imgaug 0.2.9 which is incompatible.\u001b[0m\n",
            "Successfully installed matplotlib-3.1.1 pdpbox-0.2.1\n"
          ]
        },
        {
          "output_type": "display_data",
          "data": {
            "application/vnd.colab-display-data+json": {
              "pip_warning": {
                "packages": [
                  "matplotlib",
                  "mpl_toolkits"
                ]
              }
            }
          },
          "metadata": {}
        }
      ]
    },
    {
      "cell_type": "code",
      "metadata": {
        "colab": {
          "base_uri": "https://localhost:8080/"
        },
        "id": "fEqvVuE2nEkE",
        "outputId": "d0fb8baa-809e-4664-dd63-638a0efde344"
      },
      "source": [
        "import pandas as pd\n",
        "import numpy as np\n",
        "import datetime as dt\n",
        "import pandas_profiling\n",
        "\n",
        "import matplotlib.pyplot as plt\n",
        "import plotly.express as px\n",
        "import plotly.graph_objs as go\n",
        "import seaborn as sns\n",
        "\n",
        "from category_encoders import OrdinalEncoder\n",
        "from category_encoders import OneHotEncoder\n",
        "from scipy.stats import randint, uniform\n",
        "from sklearn.ensemble import RandomForestClassifier\n",
        "from sklearn.feature_selection import SelectFromModel\n",
        "from sklearn.impute import SimpleImputer\n",
        "from sklearn.metrics import accuracy_score\n",
        "from sklearn.metrics import classification_report\n",
        "from sklearn.metrics import f1_score\n",
        "from sklearn.model_selection import GridSearchCV \n",
        "from sklearn.model_selection import train_test_split\n",
        "from sklearn.pipeline import make_pipeline\n",
        "from sklearn.tree import DecisionTreeClassifier\n",
        "import xgboost\n",
        "from xgboost import XGBClassifier\n",
        "\n",
        "import imblearn\n",
        "from imblearn.over_sampling import RandomOverSampler\n",
        "from imblearn.under_sampling import RandomUnderSampler\n",
        "from imblearn.over_sampling import SMOTE\n",
        "\n",
        "from pdpbox.pdp import pdp_isolate, pdp_plot\n",
        "from pdpbox.pdp import pdp_interact, pdp_interact_plot\n",
        "\n",
        "import warnings\n",
        "warnings.filterwarnings(action='ignore')\n",
        "warnings.simplefilter(action='ignore', category=FutureWarning) # FutureWarning 무시\n",
        "pd.set_option('mode.chained_assignment', None) # SettingWithCopyError 무시"
      ],
      "execution_count": 2,
      "outputs": [
        {
          "output_type": "stream",
          "name": "stderr",
          "text": [
            "/usr/local/lib/python3.7/dist-packages/statsmodels/tools/_testing.py:19: FutureWarning:\n",
            "\n",
            "pandas.util.testing is deprecated. Use the functions in the public API at pandas.testing instead.\n",
            "\n"
          ]
        }
      ]
    },
    {
      "cell_type": "code",
      "metadata": {
        "colab": {
          "base_uri": "https://localhost:8080/"
        },
        "id": "keQEPjfdQOeP",
        "outputId": "3eccb201-86dd-4a9f-ae06-de7c3482ec89"
      },
      "source": [
        "from google.colab import drive\n",
        "drive.mount('/content/drive')"
      ],
      "execution_count": 3,
      "outputs": [
        {
          "output_type": "stream",
          "name": "stdout",
          "text": [
            "Mounted at /content/drive\n"
          ]
        }
      ]
    },
    {
      "cell_type": "code",
      "metadata": {
        "id": "UM7BMW5RnEkG"
      },
      "source": [
        "# 데이터셋 불러오기\n",
        "df1 = pd.read_csv('/content/drive/MyDrive/2020-Jan.csv')\n",
        "df2 = pd.read_csv('/content/drive/MyDrive/2020-Feb.csv')"
      ],
      "execution_count": 4,
      "outputs": []
    },
    {
      "cell_type": "markdown",
      "metadata": {
        "id": "-Z6MkZCfQBRK"
      },
      "source": [
        "### **EDA**"
      ]
    },
    {
      "cell_type": "markdown",
      "metadata": {
        "id": "QfAcmS-7pAhn"
      },
      "source": [
        "**칼럼 설명**\n",
        "\n",
        "|Features|Description|\n",
        "|--|--|\n",
        "|event_time|행동이 발생한 시간|\n",
        "|event_type|purchase, cart, view, remove_cart 행동 중 1개|\n",
        "|product_id|상품 ID|\n",
        "|category_id|상품의 카테고리 ID|\n",
        "|category_code|상품의 카테고리명|\n",
        "|brand|브랜드명|\n",
        "|price|상품의 가격|\n",
        "|user_id|영구적인 사용자 ID|\n",
        "|user_session|일시적인 사용자의 세션 ID|\n"
      ]
    },
    {
      "cell_type": "code",
      "metadata": {
        "colab": {
          "base_uri": "https://localhost:8080/",
          "height": 310
        },
        "id": "SYEU3LfrQK6e",
        "outputId": "019156c2-5483-4a32-bcc2-d4ac13c9d7d8"
      },
      "source": [
        "# 데이터셋 합치기 \n",
        "df = pd.concat([df1,df2])\n",
        "print(df.shape)\n",
        "df.head()"
      ],
      "execution_count": 5,
      "outputs": [
        {
          "output_type": "stream",
          "name": "stdout",
          "text": [
            "(8421434, 9)\n"
          ]
        },
        {
          "output_type": "execute_result",
          "data": {
            "text/html": [
              "<div>\n",
              "<style scoped>\n",
              "    .dataframe tbody tr th:only-of-type {\n",
              "        vertical-align: middle;\n",
              "    }\n",
              "\n",
              "    .dataframe tbody tr th {\n",
              "        vertical-align: top;\n",
              "    }\n",
              "\n",
              "    .dataframe thead th {\n",
              "        text-align: right;\n",
              "    }\n",
              "</style>\n",
              "<table border=\"1\" class=\"dataframe\">\n",
              "  <thead>\n",
              "    <tr style=\"text-align: right;\">\n",
              "      <th></th>\n",
              "      <th>event_time</th>\n",
              "      <th>event_type</th>\n",
              "      <th>product_id</th>\n",
              "      <th>category_id</th>\n",
              "      <th>category_code</th>\n",
              "      <th>brand</th>\n",
              "      <th>price</th>\n",
              "      <th>user_id</th>\n",
              "      <th>user_session</th>\n",
              "    </tr>\n",
              "  </thead>\n",
              "  <tbody>\n",
              "    <tr>\n",
              "      <th>0</th>\n",
              "      <td>2020-01-01 00:00:00 UTC</td>\n",
              "      <td>view</td>\n",
              "      <td>5809910</td>\n",
              "      <td>1602943681873052386</td>\n",
              "      <td>NaN</td>\n",
              "      <td>grattol</td>\n",
              "      <td>5.24</td>\n",
              "      <td>595414620</td>\n",
              "      <td>4adb70bb-edbd-4981-b60f-a05bfd32683a</td>\n",
              "    </tr>\n",
              "    <tr>\n",
              "      <th>1</th>\n",
              "      <td>2020-01-01 00:00:09 UTC</td>\n",
              "      <td>view</td>\n",
              "      <td>5812943</td>\n",
              "      <td>1487580012121948301</td>\n",
              "      <td>NaN</td>\n",
              "      <td>kinetics</td>\n",
              "      <td>3.97</td>\n",
              "      <td>595414640</td>\n",
              "      <td>c8c5205d-be43-4f1d-aa56-4828b8151c8a</td>\n",
              "    </tr>\n",
              "    <tr>\n",
              "      <th>2</th>\n",
              "      <td>2020-01-01 00:00:19 UTC</td>\n",
              "      <td>view</td>\n",
              "      <td>5798924</td>\n",
              "      <td>1783999068867920626</td>\n",
              "      <td>NaN</td>\n",
              "      <td>zinger</td>\n",
              "      <td>3.97</td>\n",
              "      <td>595412617</td>\n",
              "      <td>46a5010f-bd69-4fbe-a00d-bb17aa7b46f3</td>\n",
              "    </tr>\n",
              "    <tr>\n",
              "      <th>3</th>\n",
              "      <td>2020-01-01 00:00:24 UTC</td>\n",
              "      <td>view</td>\n",
              "      <td>5793052</td>\n",
              "      <td>1487580005754995573</td>\n",
              "      <td>NaN</td>\n",
              "      <td>NaN</td>\n",
              "      <td>4.92</td>\n",
              "      <td>420652863</td>\n",
              "      <td>546f6af3-a517-4752-a98b-80c4c5860711</td>\n",
              "    </tr>\n",
              "    <tr>\n",
              "      <th>4</th>\n",
              "      <td>2020-01-01 00:00:25 UTC</td>\n",
              "      <td>view</td>\n",
              "      <td>5899926</td>\n",
              "      <td>2115334439910245200</td>\n",
              "      <td>NaN</td>\n",
              "      <td>NaN</td>\n",
              "      <td>3.92</td>\n",
              "      <td>484071203</td>\n",
              "      <td>cff70ddf-529e-4b0c-a4fc-f43a749c0acb</td>\n",
              "    </tr>\n",
              "  </tbody>\n",
              "</table>\n",
              "</div>"
            ],
            "text/plain": [
              "                event_time  ...                          user_session\n",
              "0  2020-01-01 00:00:00 UTC  ...  4adb70bb-edbd-4981-b60f-a05bfd32683a\n",
              "1  2020-01-01 00:00:09 UTC  ...  c8c5205d-be43-4f1d-aa56-4828b8151c8a\n",
              "2  2020-01-01 00:00:19 UTC  ...  46a5010f-bd69-4fbe-a00d-bb17aa7b46f3\n",
              "3  2020-01-01 00:00:24 UTC  ...  546f6af3-a517-4752-a98b-80c4c5860711\n",
              "4  2020-01-01 00:00:25 UTC  ...  cff70ddf-529e-4b0c-a4fc-f43a749c0acb\n",
              "\n",
              "[5 rows x 9 columns]"
            ]
          },
          "metadata": {},
          "execution_count": 5
        }
      ]
    },
    {
      "cell_type": "code",
      "metadata": {
        "colab": {
          "base_uri": "https://localhost:8080/"
        },
        "id": "xKa-ji6QnEkJ",
        "outputId": "b5039913-7ee7-496f-a659-10c2325f86cb"
      },
      "source": [
        "# 데이터 타입 확인\n",
        "df.info()"
      ],
      "execution_count": 6,
      "outputs": [
        {
          "output_type": "stream",
          "name": "stdout",
          "text": [
            "<class 'pandas.core.frame.DataFrame'>\n",
            "Int64Index: 8421434 entries, 0 to 4156681\n",
            "Data columns (total 9 columns):\n",
            " #   Column         Dtype  \n",
            "---  ------         -----  \n",
            " 0   event_time     object \n",
            " 1   event_type     object \n",
            " 2   product_id     int64  \n",
            " 3   category_id    int64  \n",
            " 4   category_code  object \n",
            " 5   brand          object \n",
            " 6   price          float64\n",
            " 7   user_id        int64  \n",
            " 8   user_session   object \n",
            "dtypes: float64(1), int64(3), object(5)\n",
            "memory usage: 642.5+ MB\n"
          ]
        }
      ]
    },
    {
      "cell_type": "code",
      "metadata": {
        "colab": {
          "base_uri": "https://localhost:8080/"
        },
        "id": "DUCiW2I8nEkJ",
        "outputId": "3b6a6dbe-29b4-41b6-b558-c8e9c774e6f4"
      },
      "source": [
        "# 데이터 결측치 확인\n",
        "df.isnull().sum()"
      ],
      "execution_count": 7,
      "outputs": [
        {
          "output_type": "execute_result",
          "data": {
            "text/plain": [
              "event_time             0\n",
              "event_type             0\n",
              "product_id             0\n",
              "category_id            0\n",
              "category_code    8269530\n",
              "brand            3601538\n",
              "price                  0\n",
              "user_id                0\n",
              "user_session        2369\n",
              "dtype: int64"
            ]
          },
          "metadata": {},
          "execution_count": 7
        }
      ]
    },
    {
      "cell_type": "code",
      "metadata": {
        "colab": {
          "base_uri": "https://localhost:8080/"
        },
        "id": "-rOIW-I8nEkK",
        "outputId": "b17fc1cf-3c9a-4e5a-dee6-5cd2fe5809a0"
      },
      "source": [
        "# 전처리\n",
        "def preprocess(df): \n",
        "    # 1) int to string\n",
        "    df['product_id'] = pd.to_numeric(df['product_id'])\n",
        "    df['category_id'] = pd.to_numeric(df['category_id'])\n",
        "    df['user_id'] = pd.to_numeric(df['user_id'])\n",
        "\n",
        "    # 2) event_time type - object to datetime\n",
        "    df['event_time'] = df['event_time'].apply(lambda d: str(d)[0:19]) # UTC 제거\n",
        "    df['event_time'] = pd.to_datetime(df['event_time'])\n",
        "    \n",
        "    # 3) 결측률 높은 특성 제거\n",
        "    labels = df.isnull().mean()\n",
        "    selected_features = labels[labels <= 0.5].index.tolist()\n",
        "    df = df[selected_features]\n",
        "\n",
        "    # 4) brand 컬럼 - 결측값 대체\n",
        "    df['brand'] = df['brand'].replace(np.nan,'Not Available')\n",
        "\n",
        "    # 5) 주문번호 컬럼 생성\n",
        "    df['ordernumber'] = df['user_id'] + df['product_id'] + df['category_id']\n",
        "\n",
        "    return df\n",
        "\n",
        "data = preprocess(df)\n",
        "data.shape"
      ],
      "execution_count": 8,
      "outputs": [
        {
          "output_type": "execute_result",
          "data": {
            "text/plain": [
              "(8421434, 9)"
            ]
          },
          "metadata": {},
          "execution_count": 8
        }
      ]
    },
    {
      "cell_type": "code",
      "metadata": {
        "colab": {
          "base_uri": "https://localhost:8080/"
        },
        "id": "W6RBa2JJnEkJ",
        "outputId": "1765a2ca-b9b4-447f-a92c-9143c869eede"
      },
      "source": [
        "# 데이터 규모\n",
        "print(df.shape[0])\n",
        "print(df['user_id'].nunique()) # 사용자\n",
        "print(df['product_id'].nunique()) # 제품\n",
        "print(df[(df.event_type =='purchase')].shape[0]) # 구매"
      ],
      "execution_count": 9,
      "outputs": [
        {
          "output_type": "stream",
          "name": "stdout",
          "text": [
            "8421434\n",
            "737093\n",
            "50924\n",
            "505790\n"
          ]
        }
      ]
    },
    {
      "cell_type": "markdown",
      "metadata": {
        "id": "VfsnSexpvkEc"
      },
      "source": [
        "### **Plot for EDA**"
      ]
    },
    {
      "cell_type": "code",
      "metadata": {
        "colab": {
          "base_uri": "https://localhost:8080/",
          "height": 175
        },
        "id": "7VnaUo6G30-m",
        "outputId": "bd90c753-285f-4870-d8ec-aad452e2715b"
      },
      "source": [
        "# 페이지뷰\n",
        "pv = df['event_type'].value_counts()\n",
        "pv = pd.DataFrame({'page_view':pv})\n",
        "pv"
      ],
      "execution_count": 10,
      "outputs": [
        {
          "output_type": "execute_result",
          "data": {
            "text/html": [
              "<div>\n",
              "<style scoped>\n",
              "    .dataframe tbody tr th:only-of-type {\n",
              "        vertical-align: middle;\n",
              "    }\n",
              "\n",
              "    .dataframe tbody tr th {\n",
              "        vertical-align: top;\n",
              "    }\n",
              "\n",
              "    .dataframe thead th {\n",
              "        text-align: right;\n",
              "    }\n",
              "</style>\n",
              "<table border=\"1\" class=\"dataframe\">\n",
              "  <thead>\n",
              "    <tr style=\"text-align: right;\">\n",
              "      <th></th>\n",
              "      <th>page_view</th>\n",
              "    </tr>\n",
              "  </thead>\n",
              "  <tbody>\n",
              "    <tr>\n",
              "      <th>view</th>\n",
              "      <td>3991194</td>\n",
              "    </tr>\n",
              "    <tr>\n",
              "      <th>cart</th>\n",
              "      <td>2297017</td>\n",
              "    </tr>\n",
              "    <tr>\n",
              "      <th>remove_from_cart</th>\n",
              "      <td>1627433</td>\n",
              "    </tr>\n",
              "    <tr>\n",
              "      <th>purchase</th>\n",
              "      <td>505790</td>\n",
              "    </tr>\n",
              "  </tbody>\n",
              "</table>\n",
              "</div>"
            ],
            "text/plain": [
              "                  page_view\n",
              "view                3991194\n",
              "cart                2297017\n",
              "remove_from_cart    1627433\n",
              "purchase             505790"
            ]
          },
          "metadata": {},
          "execution_count": 10
        }
      ]
    },
    {
      "cell_type": "code",
      "metadata": {
        "colab": {
          "base_uri": "https://localhost:8080/",
          "height": 265
        },
        "id": "hXVYyChmnEkM",
        "outputId": "c334f163-9186-440b-f84d-a6d3287ef2db"
      },
      "source": [
        "# 구매전환율\n",
        "cvr = pv.loc['purchase']['page_view'] / pv.loc['view']['page_view']\n",
        "print('conversion rate: ', round(cvr, 2))\n",
        "\n",
        "%matplotlib inline \n",
        "ratio = [cvr*100, 100-(cvr*100)]\n",
        "labels = ['conversion_rate', '']\n",
        "colors = ['#ffc000', '#c0c0c0']\n",
        "wedgeprops={'edgecolor': 'w', 'linewidth': 3}\n",
        "\n",
        "plt.pie(ratio, autopct='%.1f%%', startangle=90, counterclock=False, colors=colors, wedgeprops=wedgeprops)\n",
        "plt.show()"
      ],
      "execution_count": 11,
      "outputs": [
        {
          "output_type": "stream",
          "name": "stdout",
          "text": [
            "conversion rate:  0.13\n"
          ]
        },
        {
          "output_type": "display_data",
          "data": {
            "image/png": "[encoded data removed]",
            "text/plain": [
              "<Figure size 432x288 with 1 Axes>"
            ]
          },
          "metadata": {}
        }
      ]
    },
    {
      "cell_type": "code",
      "metadata": {
        "colab": {
          "base_uri": "https://localhost:8080/",
          "height": 440
        },
        "id": "BjC9n1e1nEkH",
        "outputId": "82ea8d15-87b6-4bc6-a107-f65d62c6a67c"
      },
      "source": [
        "# 이탈율\n",
        "count = {}\n",
        "lists = [i for i in df['user_session']]\n",
        "for i in lists:\n",
        "    try: count[i] += 1\n",
        "    except: count[i] = 1\n",
        "\n",
        "lists2 = [key for key, value in count.items() if value == 1]\n",
        "bounce = pd.DataFrame({'user_session':lists2})\n",
        "bounce = pd.merge(bounce, df[['user_session','event_type']], on='user_session', how='left')\n",
        "bounce = bounce['event_type'].value_counts()\n",
        "bounce = pd.DataFrame({'bounce':bounce})\n",
        "\n",
        "bounce_rate = pd.concat([pv, bounce], axis=1)\n",
        "bounce_rate['bounce_rate'] = (bounce_rate['bounce'] / bounce_rate['page_view'])*100\n",
        "bounce_rate['bounce_rate'].plot(kind='bar',rot=0,title='Bounce Rate');\n",
        "\n",
        "bounce_rate"
      ],
      "execution_count": 12,
      "outputs": [
        {
          "output_type": "execute_result",
          "data": {
            "text/html": [
              "<div>\n",
              "<style scoped>\n",
              "    .dataframe tbody tr th:only-of-type {\n",
              "        vertical-align: middle;\n",
              "    }\n",
              "\n",
              "    .dataframe tbody tr th {\n",
              "        vertical-align: top;\n",
              "    }\n",
              "\n",
              "    .dataframe thead th {\n",
              "        text-align: right;\n",
              "    }\n",
              "</style>\n",
              "<table border=\"1\" class=\"dataframe\">\n",
              "  <thead>\n",
              "    <tr style=\"text-align: right;\">\n",
              "      <th></th>\n",
              "      <th>page_view</th>\n",
              "      <th>bounce</th>\n",
              "      <th>bounce_rate</th>\n",
              "    </tr>\n",
              "  </thead>\n",
              "  <tbody>\n",
              "    <tr>\n",
              "      <th>view</th>\n",
              "      <td>3991194</td>\n",
              "      <td>1200883</td>\n",
              "      <td>30.088314</td>\n",
              "    </tr>\n",
              "    <tr>\n",
              "      <th>cart</th>\n",
              "      <td>2297017</td>\n",
              "      <td>25306</td>\n",
              "      <td>1.101690</td>\n",
              "    </tr>\n",
              "    <tr>\n",
              "      <th>remove_from_cart</th>\n",
              "      <td>1627433</td>\n",
              "      <td>4036</td>\n",
              "      <td>0.247998</td>\n",
              "    </tr>\n",
              "    <tr>\n",
              "      <th>purchase</th>\n",
              "      <td>505790</td>\n",
              "      <td>549</td>\n",
              "      <td>0.108543</td>\n",
              "    </tr>\n",
              "  </tbody>\n",
              "</table>\n",
              "</div>"
            ],
            "text/plain": [
              "                  page_view   bounce  bounce_rate\n",
              "view                3991194  1200883    30.088314\n",
              "cart                2297017    25306     1.101690\n",
              "remove_from_cart    1627433     4036     0.247998\n",
              "purchase             505790      549     0.108543"
            ]
          },
          "metadata": {},
          "execution_count": 12
        },
        {
          "output_type": "display_data",
          "data": {
            "image/png": "[encoded data removed]",
            "text/plain": [
              "<Figure size 432x288 with 1 Axes>"
            ]
          },
          "metadata": {
            "needs_background": "light"
          }
        }
      ]
    },
    {
      "cell_type": "markdown",
      "metadata": {
        "id": "Ys3vw2saxn_S"
      },
      "source": [
        "### **Finding**\n",
        "* 'view'에서 사용자가 단일 페이지만 보고 페이지를 이탈하는 비율이 가장 높습니다."
      ]
    },
    {
      "cell_type": "code",
      "metadata": {
        "colab": {
          "base_uri": "https://localhost:8080/",
          "height": 292
        },
        "id": "5kJeuGIsnEkK",
        "outputId": "74fc4a48-d57e-4a00-cac0-d3c355ea871d"
      },
      "source": [
        "# 고객 행동 단계별 비율\n",
        "customer_behavior = df['event_type'].value_counts().reset_index().rename(columns={'index':'event_type','event_type':'count'})\n",
        "sns.barplot(data=customer_behavior, x='event_type', y='count');"
      ],
      "execution_count": 13,
      "outputs": [
        {
          "output_type": "display_data",
          "data": {
            "image/png": "[encoded data removed]",
            "text/plain": [
              "<Figure size 432x288 with 1 Axes>"
            ]
          },
          "metadata": {
            "needs_background": "light"
          }
        }
      ]
    },
    {
      "cell_type": "code",
      "metadata": {
        "colab": {
          "base_uri": "https://localhost:8080/",
          "height": 542
        },
        "id": "hGAtGbFnnEkL",
        "outputId": "51047257-1fd9-4292-ada8-a6543928fd24"
      },
      "source": [
        "# 고객 행동 단계별 비율(funnel)\n",
        "fig = px.funnel(customer_behavior, x='count', y='event_type')\n",
        "fig.update_traces(texttemplate='%{x:.f}')\n",
        "fig.show()"
      ],
      "execution_count": 14,
      "outputs": [
        {
          "output_type": "display_data",
          "data": {
            "text/html": [
              "<html>\n",
              "<head><meta charset=\"utf-8\" /></head>\n",
              "<body>\n",
              "    <div>\n",
              "            <script src=\"https://cdnjs.cloudflare.com/ajax/libs/mathjax/2.7.5/MathJax.js?config=TeX-AMS-MML_SVG\"></script><script type=\"text/javascript\">if (window.MathJax) {MathJax.Hub.Config({SVG: {font: \"STIX-Web\"}});}</script>\n",
              "                <script type=\"text/javascript\">window.PlotlyConfig = {MathJaxConfig: 'local'};</script>\n",
              "        <script src=\"https://cdn.plot.ly/plotly-latest.min.js\"></script>    \n",
              "            <div id=\"00394a65-dbde-4b83-aefc-04cef422b46f\" class=\"plotly-graph-div\" style=\"height:525px; width:100%;\"></div>\n",
              "            <script type=\"text/javascript\">\n",
              "                \n",
              "                    window.PLOTLYENV=window.PLOTLYENV || {};\n",
              "                    \n",
              "                if (document.getElementById(\"00394a65-dbde-4b83-aefc-04cef422b46f\")) {\n",
              "                    Plotly.newPlot(\n",
              "                        '00394a65-dbde-4b83-aefc-04cef422b46f',\n",
              "                        [{\"hoverlabel\": {\"namelength\": 0}, \"hovertemplate\": \"count=%{x}<br>event_type=%{y}\", \"legendgroup\": \"\", \"marker\": {\"color\": \"#636efa\"}, \"name\": \"\", \"orientation\": \"h\", \"showlegend\": false, \"texttemplate\": \"%{x:.f}\", \"type\": \"funnel\", \"x\": [3991194, 2297017, 1627433, 505790], \"xaxis\": \"x\", \"y\": [\"view\", \"cart\", \"remove_from_cart\", \"purchase\"], \"yaxis\": \"y\"}],\n",
              "                        {\"legend\": {\"tracegroupgap\": 0}, \"margin\": {\"t\": 60}, \"template\": {\"data\": {\"bar\": [{\"error_x\": {\"color\": \"#2a3f5f\"}, \"error_y\": {\"color\": \"#2a3f5f\"}, \"marker\": {\"line\": {\"color\": \"#E5ECF6\", \"width\": 0.5}}, \"type\": \"bar\"}], \"barpolar\": [{\"marker\": {\"line\": {\"color\": \"#E5ECF6\", \"width\": 0.5}}, \"type\": \"barpolar\"}], \"carpet\": [{\"aaxis\": {\"endlinecolor\": \"#2a3f5f\", \"gridcolor\": \"white\", \"linecolor\": \"white\", \"minorgridcolor\": \"white\", \"startlinecolor\": \"#2a3f5f\"}, \"baxis\": {\"endlinecolor\": \"#2a3f5f\", \"gridcolor\": \"white\", \"linecolor\": \"white\", \"minorgridcolor\": \"white\", \"startlinecolor\": \"#2a3f5f\"}, \"type\": \"carpet\"}], \"choropleth\": [{\"colorbar\": {\"outlinewidth\": 0, \"ticks\": \"\"}, \"type\": \"choropleth\"}], \"contour\": [{\"colorbar\": {\"outlinewidth\": 0, \"ticks\": \"\"}, \"colorscale\": [[0.0, \"#0d0887\"], [0.1111111111111111, \"#46039f\"], [0.2222222222222222, \"#7201a8\"], [0.3333333333333333, \"#9c179e\"], [0.4444444444444444, \"#bd3786\"], [0.5555555555555556, \"#d8576b\"], [0.6666666666666666, \"#ed7953\"], [0.7777777777777778, \"#fb9f3a\"], [0.8888888888888888, \"#fdca26\"], [1.0, \"#f0f921\"]], \"type\": \"contour\"}], \"contourcarpet\": [{\"colorbar\": {\"outlinewidth\": 0, \"ticks\": \"\"}, \"type\": \"contourcarpet\"}], \"heatmap\": [{\"colorbar\": {\"outlinewidth\": 0, \"ticks\": \"\"}, \"colorscale\": [[0.0, \"#0d0887\"], [0.1111111111111111, \"#46039f\"], [0.2222222222222222, \"#7201a8\"], [0.3333333333333333, \"#9c179e\"], [0.4444444444444444, \"#bd3786\"], [0.5555555555555556, \"#d8576b\"], [0.6666666666666666, \"#ed7953\"], [0.7777777777777778, \"#fb9f3a\"], [0.8888888888888888, \"#fdca26\"], [1.0, \"#f0f921\"]], \"type\": \"heatmap\"}], \"heatmapgl\": [{\"colorbar\": {\"outlinewidth\": 0, \"ticks\": \"\"}, \"colorscale\": [[0.0, \"#0d0887\"], [0.1111111111111111, \"#46039f\"], [0.2222222222222222, \"#7201a8\"], [0.3333333333333333, \"#9c179e\"], [0.4444444444444444, \"#bd3786\"], [0.5555555555555556, \"#d8576b\"], [0.6666666666666666, \"#ed7953\"], [0.7777777777777778, \"#fb9f3a\"], [0.8888888888888888, \"#fdca26\"], [1.0, \"#f0f921\"]], \"type\": \"heatmapgl\"}], \"histogram\": [{\"marker\": {\"colorbar\": {\"outlinewidth\": 0, \"ticks\": \"\"}}, \"type\": \"histogram\"}], \"histogram2d\": [{\"colorbar\": {\"outlinewidth\": 0, \"ticks\": \"\"}, \"colorscale\": [[0.0, \"#0d0887\"], [0.1111111111111111, \"#46039f\"], [0.2222222222222222, \"#7201a8\"], [0.3333333333333333, \"#9c179e\"], [0.4444444444444444, \"#bd3786\"], [0.5555555555555556, \"#d8576b\"], [0.6666666666666666, \"#ed7953\"], [0.7777777777777778, \"#fb9f3a\"], [0.8888888888888888, \"#fdca26\"], [1.0, \"#f0f921\"]], \"type\": \"histogram2d\"}], \"histogram2dcontour\": [{\"colorbar\": {\"outlinewidth\": 0, \"ticks\": \"\"}, \"colorscale\": [[0.0, \"#0d0887\"], [0.1111111111111111, \"#46039f\"], [0.2222222222222222, \"#7201a8\"], [0.3333333333333333, \"#9c179e\"], [0.4444444444444444, \"#bd3786\"], [0.5555555555555556, \"#d8576b\"], [0.6666666666666666, \"#ed7953\"], [0.7777777777777778, \"#fb9f3a\"], [0.8888888888888888, \"#fdca26\"], [1.0, \"#f0f921\"]], \"type\": \"histogram2dcontour\"}], \"mesh3d\": [{\"colorbar\": {\"outlinewidth\": 0, \"ticks\": \"\"}, \"type\": \"mesh3d\"}], \"parcoords\": [{\"line\": {\"colorbar\": {\"outlinewidth\": 0, \"ticks\": \"\"}}, \"type\": \"parcoords\"}], \"pie\": [{\"automargin\": true, \"type\": \"pie\"}], \"scatter\": [{\"marker\": {\"colorbar\": {\"outlinewidth\": 0, \"ticks\": \"\"}}, \"type\": \"scatter\"}], \"scatter3d\": [{\"line\": {\"colorbar\": {\"outlinewidth\": 0, \"ticks\": \"\"}}, \"marker\": {\"colorbar\": {\"outlinewidth\": 0, \"ticks\": \"\"}}, \"type\": \"scatter3d\"}], \"scattercarpet\": [{\"marker\": {\"colorbar\": {\"outlinewidth\": 0, \"ticks\": \"\"}}, \"type\": \"scattercarpet\"}], \"scattergeo\": [{\"marker\": {\"colorbar\": {\"outlinewidth\": 0, \"ticks\": \"\"}}, \"type\": \"scattergeo\"}], \"scattergl\": [{\"marker\": {\"colorbar\": {\"outlinewidth\": 0, \"ticks\": \"\"}}, \"type\": \"scattergl\"}], \"scattermapbox\": [{\"marker\": {\"colorbar\": {\"outlinewidth\": 0, \"ticks\": \"\"}}, \"type\": \"scattermapbox\"}], \"scatterpolar\": [{\"marker\": {\"colorbar\": {\"outlinewidth\": 0, \"ticks\": \"\"}}, \"type\": \"scatterpolar\"}], \"scatterpolargl\": [{\"marker\": {\"colorbar\": {\"outlinewidth\": 0, \"ticks\": \"\"}}, \"type\": \"scatterpolargl\"}], \"scatterternary\": [{\"marker\": {\"colorbar\": {\"outlinewidth\": 0, \"ticks\": \"\"}}, \"type\": \"scatterternary\"}], \"surface\": [{\"colorbar\": {\"outlinewidth\": 0, \"ticks\": \"\"}, \"colorscale\": [[0.0, \"#0d0887\"], [0.1111111111111111, \"#46039f\"], [0.2222222222222222, \"#7201a8\"], [0.3333333333333333, \"#9c179e\"], [0.4444444444444444, \"#bd3786\"], [0.5555555555555556, \"#d8576b\"], [0.6666666666666666, \"#ed7953\"], [0.7777777777777778, \"#fb9f3a\"], [0.8888888888888888, \"#fdca26\"], [1.0, \"#f0f921\"]], \"type\": \"surface\"}], \"table\": [{\"cells\": {\"fill\": {\"color\": \"#EBF0F8\"}, \"line\": {\"color\": \"white\"}}, \"header\": {\"fill\": {\"color\": \"#C8D4E3\"}, \"line\": {\"color\": \"white\"}}, \"type\": \"table\"}]}, \"layout\": {\"annotationdefaults\": {\"arrowcolor\": \"#2a3f5f\", \"arrowhead\": 0, \"arrowwidth\": 1}, \"coloraxis\": {\"colorbar\": {\"outlinewidth\": 0, \"ticks\": \"\"}}, \"colorscale\": {\"diverging\": [[0, \"#8e0152\"], [0.1, \"#c51b7d\"], [0.2, \"#de77ae\"], [0.3, \"#f1b6da\"], [0.4, \"#fde0ef\"], [0.5, \"#f7f7f7\"], [0.6, \"#e6f5d0\"], [0.7, \"#b8e186\"], [0.8, \"#7fbc41\"], [0.9, \"#4d9221\"], [1, \"#276419\"]], \"sequential\": [[0.0, \"#0d0887\"], [0.1111111111111111, \"#46039f\"], [0.2222222222222222, \"#7201a8\"], [0.3333333333333333, \"#9c179e\"], [0.4444444444444444, \"#bd3786\"], [0.5555555555555556, \"#d8576b\"], [0.6666666666666666, \"#ed7953\"], [0.7777777777777778, \"#fb9f3a\"], [0.8888888888888888, \"#fdca26\"], [1.0, \"#f0f921\"]], \"sequentialminus\": [[0.0, \"#0d0887\"], [0.1111111111111111, \"#46039f\"], [0.2222222222222222, \"#7201a8\"], [0.3333333333333333, \"#9c179e\"], [0.4444444444444444, \"#bd3786\"], [0.5555555555555556, \"#d8576b\"], [0.6666666666666666, \"#ed7953\"], [0.7777777777777778, \"#fb9f3a\"], [0.8888888888888888, \"#fdca26\"], [1.0, \"#f0f921\"]]}, \"colorway\": [\"#636efa\", \"#EF553B\", \"#00cc96\", \"#ab63fa\", \"#FFA15A\", \"#19d3f3\", \"#FF6692\", \"#B6E880\", \"#FF97FF\", \"#FECB52\"], \"font\": {\"color\": \"#2a3f5f\"}, \"geo\": {\"bgcolor\": \"white\", \"lakecolor\": \"white\", \"landcolor\": \"#E5ECF6\", \"showlakes\": true, \"showland\": true, \"subunitcolor\": \"white\"}, \"hoverlabel\": {\"align\": \"left\"}, \"hovermode\": \"closest\", \"mapbox\": {\"style\": \"light\"}, \"paper_bgcolor\": \"white\", \"plot_bgcolor\": \"#E5ECF6\", \"polar\": {\"angularaxis\": {\"gridcolor\": \"white\", \"linecolor\": \"white\", \"ticks\": \"\"}, \"bgcolor\": \"#E5ECF6\", \"radialaxis\": {\"gridcolor\": \"white\", \"linecolor\": \"white\", \"ticks\": \"\"}}, \"scene\": {\"xaxis\": {\"backgroundcolor\": \"#E5ECF6\", \"gridcolor\": \"white\", \"gridwidth\": 2, \"linecolor\": \"white\", \"showbackground\": true, \"ticks\": \"\", \"zerolinecolor\": \"white\"}, \"yaxis\": {\"backgroundcolor\": \"#E5ECF6\", \"gridcolor\": \"white\", \"gridwidth\": 2, \"linecolor\": \"white\", \"showbackground\": true, \"ticks\": \"\", \"zerolinecolor\": \"white\"}, \"zaxis\": {\"backgroundcolor\": \"#E5ECF6\", \"gridcolor\": \"white\", \"gridwidth\": 2, \"linecolor\": \"white\", \"showbackground\": true, \"ticks\": \"\", \"zerolinecolor\": \"white\"}}, \"shapedefaults\": {\"line\": {\"color\": \"#2a3f5f\"}}, \"ternary\": {\"aaxis\": {\"gridcolor\": \"white\", \"linecolor\": \"white\", \"ticks\": \"\"}, \"baxis\": {\"gridcolor\": \"white\", \"linecolor\": \"white\", \"ticks\": \"\"}, \"bgcolor\": \"#E5ECF6\", \"caxis\": {\"gridcolor\": \"white\", \"linecolor\": \"white\", \"ticks\": \"\"}}, \"title\": {\"x\": 0.05}, \"xaxis\": {\"automargin\": true, \"gridcolor\": \"white\", \"linecolor\": \"white\", \"ticks\": \"\", \"title\": {\"standoff\": 15}, \"zerolinecolor\": \"white\", \"zerolinewidth\": 2}, \"yaxis\": {\"automargin\": true, \"gridcolor\": \"white\", \"linecolor\": \"white\", \"ticks\": \"\", \"title\": {\"standoff\": 15}, \"zerolinecolor\": \"white\", \"zerolinewidth\": 2}}}, \"xaxis\": {\"anchor\": \"y\", \"domain\": [0.0, 1.0]}, \"yaxis\": {\"anchor\": \"x\", \"domain\": [0.0, 1.0]}},\n",
              "                        {\"responsive\": true}\n",
              "                    ).then(function(){\n",
              "                            \n",
              "var gd = document.getElementById('00394a65-dbde-4b83-aefc-04cef422b46f');\n",
              "var x = new MutationObserver(function (mutations, observer) {{\n",
              "        var display = window.getComputedStyle(gd).display;\n",
              "        if (!display || display === 'none') {{\n",
              "            console.log([gd, 'removed!']);\n",
              "            Plotly.purge(gd);\n",
              "            observer.disconnect();\n",
              "        }}\n",
              "}});\n",
              "\n",
              "// Listen for the removal of the full notebook cells\n",
              "var notebookContainer = gd.closest('#notebook-container');\n",
              "if (notebookContainer) {{\n",
              "    x.observe(notebookContainer, {childList: true});\n",
              "}}\n",
              "\n",
              "// Listen for the clearing of the current output cell\n",
              "var outputEl = gd.closest('.output');\n",
              "if (outputEl) {{\n",
              "    x.observe(outputEl, {childList: true});\n",
              "}}\n",
              "\n",
              "                        })\n",
              "                };\n",
              "                \n",
              "            </script>\n",
              "        </div>\n",
              "</body>\n",
              "</html>"
            ]
          },
          "metadata": {}
        }
      ]
    },
    {
      "cell_type": "code",
      "metadata": {
        "colab": {
          "base_uri": "https://localhost:8080/",
          "height": 295
        },
        "id": "CmbB74RAoPfK",
        "outputId": "50bba4fd-4928-4e04-c859-70bab0040f69"
      },
      "source": [
        "# 요일별 매출 합계\n",
        "data_time = data[data['event_type'].isin(['purchase'])][['event_time','price']]\n",
        "data_time = pd.DataFrame(data_time)\n",
        "\n",
        "data_time['weekday'] = [i.isocalendar() for i in data_time['event_time']]\n",
        "data_time['weekly'] = ['week'+str(i[1]) for i in data_time['weekday']]\n",
        "data_time['week'] = [i[2] for i in data_time['weekday']]\n",
        "\n",
        "def price_by_week(week):\n",
        "  df = data_time[data_time['weekly']==week].groupby(['week'])['price'].sum()\n",
        "  df = pd.DataFrame(df)\n",
        "  return df\n",
        "\n",
        "week3 = price_by_week('week3')\n",
        "week4 = price_by_week('week4')\n",
        "\n",
        "plt.plot(week3.index, week3['price'], 'b', linestyle='dashed', label='week3')\n",
        "plt.plot(week4.index, week4['price'], 'b', linestyle='solid', label='week4')\n",
        "plt.xticks([1,2,3,4,5,6,7], labels=['Mon','Tue','Wed','Thu','Fri','Sat','Sun'])\n",
        "plt.xlabel('week')\n",
        "plt.ylabel('price')\n",
        "plt.title('Sales by day of the week')\n",
        "plt.legend(loc='upper right')\n",
        "\n",
        "plt.show()"
      ],
      "execution_count": 15,
      "outputs": [
        {
          "output_type": "display_data",
          "data": {
            "image/png": "[encoded data removed]",
            "text/plain": [
              "<Figure size 432x288 with 1 Axes>"
            ]
          },
          "metadata": {
            "needs_background": "light"
          }
        }
      ]
    },
    {
      "cell_type": "markdown",
      "metadata": {
        "id": "ix0RcZKpy0t8"
      },
      "source": [
        "### **Finding**\n",
        "* 1월 4주차는 전주 대비 매출이 역성장 추세를 보이고 있습니다. 특히 '월요일'에 전주 대비 -10% 역성장으로 매출이 크게 하락하였습니다."
      ]
    },
    {
      "cell_type": "code",
      "metadata": {
        "colab": {
          "base_uri": "https://localhost:8080/",
          "height": 295
        },
        "id": "pfIXmVHNnEkN",
        "outputId": "891b0660-1889-4bd5-d0eb-4fb19a4c50ee"
      },
      "source": [
        "# 시간별 매출 합계\n",
        "data_time['time'] = [i.hour for i in data_time['event_time']]\n",
        "\n",
        "def price_by_time(week):\n",
        "  df = data_time[data_time['weekly']==week].groupby(['time'])['price'].sum()\n",
        "  df = pd.DataFrame(df)\n",
        "  return df\n",
        "\n",
        "week3 = price_by_time('week3')\n",
        "\n",
        "plt.plot(week3.index, week3['price'], 'b', linestyle='solid', label='week3')\n",
        "plt.xlabel('time')\n",
        "plt.ylabel('price')\n",
        "plt.title('Sales by time')\n",
        "\n",
        "plt.show()"
      ],
      "execution_count": 16,
      "outputs": [
        {
          "output_type": "display_data",
          "data": {
            "image/png": "[encoded data removed]",
            "text/plain": [
              "<Figure size 432x288 with 1 Axes>"
            ]
          },
          "metadata": {
            "needs_background": "light"
          }
        }
      ]
    },
    {
      "cell_type": "markdown",
      "metadata": {
        "id": "SCyukMg7StSf"
      },
      "source": [
        "### **Finding**\n",
        "*   피크 타임은 일 2회로 오전 10시, 오후 7시에 판매가 높았습니다.\n",
        "*   오전 10시에 2.2만 달러로 일 최대 매출 기록하였습니다.\n",
        "\n",
        "\n"
      ]
    },
    {
      "cell_type": "markdown",
      "metadata": {
        "id": "OVFRIe3BSKW3"
      },
      "source": [
        "### **Feature Engineering**"
      ]
    },
    {
      "cell_type": "markdown",
      "metadata": {
        "id": "J1JSohq100pn"
      },
      "source": [
        "**칼럼 설명**\n",
        "\n",
        "|Features|Description|\n",
        "|--|--|\n",
        "|user_id|영구적인 사용자 ID|\n",
        "|category_id|상품의 카테고리 ID|\n",
        "|product_id|상품 ID|\n",
        "|view|상품 보기 총 횟수|\n",
        "|cart|장바구니에 담은 총 횟수|\n",
        "|remove_from_cart|장바구니에 제거한 총 횟수|\n",
        "|price|상품의 가격|\n",
        "|first_time|상품 보기 페이지에 처음 접근한 시간|\n",
        "|last_time|상품 보기 페이지에 마지막 접근한 시간|\n",
        "|dif_time|상품 보기 페이지에 마지막 접근한 시간 - 상품 보기 페이지에 처음 접근한 시간|\n",
        "|pur_time|구매한 시간|\n",
        "|purchase_status|사용자의 상품 최종 구매 여부|\n"
      ]
    },
    {
      "cell_type": "code",
      "metadata": {
        "colab": {
          "base_uri": "https://localhost:8080/",
          "height": 313
        },
        "id": "GVJ3cwjXnEkO",
        "outputId": "db1b0bce-6e44-4952-eb25-d63200c0807c"
      },
      "source": [
        "# 특성 엔지니어링\n",
        "def feature_engineering(df): \n",
        "    # 1) crosstab\n",
        "    dataset = pd.crosstab(index=[df.user_id, df.category_id, df.product_id], columns=df.event_type).reset_index()\n",
        "\n",
        "    # 2) 주문번호 컬럼 생성\n",
        "    dataset['ordernumber'] = dataset['user_id'] + dataset['product_id'] + dataset['category_id']\n",
        "\n",
        "    # 3) 가격/구매시간 컬럼 추가\n",
        "    price = data.groupby(['ordernumber'])['price'].last().reset_index(name = 'price')\n",
        "    dataset = pd.merge(dataset, price, on='ordernumber', how='left')\n",
        "\n",
        "    pur_time = data[(data['event_type']=='purchase')].groupby(['ordernumber'])['event_time'].last().reset_index(name = 'pur_time')\n",
        "    dataset = pd.merge(dataset, pur_time, on='ordernumber', how='left')\n",
        "\n",
        "    # 4) first_time, last_time 컬럼 생성\n",
        "    first_time = data[(data['event_type']=='view')].groupby(['ordernumber'])['event_time'].first().reset_index(name = 'first_time')\n",
        "    last_time = data[(data['event_type']=='view')].groupby(['ordernumber'])['event_time'].last().reset_index(name = 'last_time')\n",
        "\n",
        "    dataset = pd.merge(dataset, first_time, on='ordernumber', how='left')\n",
        "    dataset = pd.merge(dataset, last_time, on='ordernumber', how='left')\n",
        "\n",
        "    # 5) purchase_status 컬럼 생성\n",
        "    dataset['purchase_status'] = dataset['purchase_status'] = [1 if i >= 1 else 0 for i in dataset['purchase']]\n",
        "\n",
        "    # 6) dif_time 컬럼 생성\n",
        "    dataset['dif_time'] = (dataset['last_time'] - dataset['first_time']).dt.seconds / 60 \n",
        "    dataset['dif_time'] = dataset['dif_time'].replace(np.nan, 0)\n",
        "\n",
        "    # 7) Overfitting 방지\n",
        "    dataset.drop(columns=['purchase','ordernumber'], inplace=True)\n",
        "\n",
        "    return dataset\n",
        "\n",
        "dataset = feature_engineering(data)\n",
        "dataset.shape\n",
        "dataset.head()"
      ],
      "execution_count": 17,
      "outputs": [
        {
          "output_type": "execute_result",
          "data": {
            "text/html": [
              "<div>\n",
              "<style scoped>\n",
              "    .dataframe tbody tr th:only-of-type {\n",
              "        vertical-align: middle;\n",
              "    }\n",
              "\n",
              "    .dataframe tbody tr th {\n",
              "        vertical-align: top;\n",
              "    }\n",
              "\n",
              "    .dataframe thead th {\n",
              "        text-align: right;\n",
              "    }\n",
              "</style>\n",
              "<table border=\"1\" class=\"dataframe\">\n",
              "  <thead>\n",
              "    <tr style=\"text-align: right;\">\n",
              "      <th></th>\n",
              "      <th>user_id</th>\n",
              "      <th>category_id</th>\n",
              "      <th>product_id</th>\n",
              "      <th>cart</th>\n",
              "      <th>remove_from_cart</th>\n",
              "      <th>view</th>\n",
              "      <th>price</th>\n",
              "      <th>pur_time</th>\n",
              "      <th>first_time</th>\n",
              "      <th>last_time</th>\n",
              "      <th>purchase_status</th>\n",
              "      <th>dif_time</th>\n",
              "    </tr>\n",
              "  </thead>\n",
              "  <tbody>\n",
              "    <tr>\n",
              "      <th>0</th>\n",
              "      <td>465496</td>\n",
              "      <td>1487580008447738866</td>\n",
              "      <td>5769989</td>\n",
              "      <td>0</td>\n",
              "      <td>0</td>\n",
              "      <td>1</td>\n",
              "      <td>10.00</td>\n",
              "      <td>NaT</td>\n",
              "      <td>2020-01-14 16:25:35</td>\n",
              "      <td>2020-01-14 16:25:35</td>\n",
              "      <td>0</td>\n",
              "      <td>0.0</td>\n",
              "    </tr>\n",
              "    <tr>\n",
              "      <th>1</th>\n",
              "      <td>465496</td>\n",
              "      <td>1487580008447738866</td>\n",
              "      <td>5865524</td>\n",
              "      <td>0</td>\n",
              "      <td>0</td>\n",
              "      <td>1</td>\n",
              "      <td>10.00</td>\n",
              "      <td>NaT</td>\n",
              "      <td>2020-01-14 16:27:31</td>\n",
              "      <td>2020-01-14 16:27:31</td>\n",
              "      <td>0</td>\n",
              "      <td>0.0</td>\n",
              "    </tr>\n",
              "    <tr>\n",
              "      <th>2</th>\n",
              "      <td>465496</td>\n",
              "      <td>1487580008447738866</td>\n",
              "      <td>5865526</td>\n",
              "      <td>0</td>\n",
              "      <td>0</td>\n",
              "      <td>1</td>\n",
              "      <td>10.00</td>\n",
              "      <td>NaT</td>\n",
              "      <td>2020-01-14 16:15:21</td>\n",
              "      <td>2020-01-14 16:15:21</td>\n",
              "      <td>0</td>\n",
              "      <td>0.0</td>\n",
              "    </tr>\n",
              "    <tr>\n",
              "      <th>3</th>\n",
              "      <td>2038666</td>\n",
              "      <td>1487580011534745720</td>\n",
              "      <td>5867581</td>\n",
              "      <td>0</td>\n",
              "      <td>0</td>\n",
              "      <td>1</td>\n",
              "      <td>25.38</td>\n",
              "      <td>NaT</td>\n",
              "      <td>2020-02-16 13:19:37</td>\n",
              "      <td>2020-02-16 13:19:37</td>\n",
              "      <td>0</td>\n",
              "      <td>0.0</td>\n",
              "    </tr>\n",
              "    <tr>\n",
              "      <th>4</th>\n",
              "      <td>3571443</td>\n",
              "      <td>1487580008112194531</td>\n",
              "      <td>5814877</td>\n",
              "      <td>0</td>\n",
              "      <td>0</td>\n",
              "      <td>1</td>\n",
              "      <td>2.78</td>\n",
              "      <td>NaT</td>\n",
              "      <td>2020-02-26 19:11:57</td>\n",
              "      <td>2020-02-26 19:11:57</td>\n",
              "      <td>0</td>\n",
              "      <td>0.0</td>\n",
              "    </tr>\n",
              "  </tbody>\n",
              "</table>\n",
              "</div>"
            ],
            "text/plain": [
              "   user_id          category_id  ...  purchase_status  dif_time\n",
              "0   465496  1487580008447738866  ...                0       0.0\n",
              "1   465496  1487580008447738866  ...                0       0.0\n",
              "2   465496  1487580008447738866  ...                0       0.0\n",
              "3  2038666  1487580011534745720  ...                0       0.0\n",
              "4  3571443  1487580008112194531  ...                0       0.0\n",
              "\n",
              "[5 rows x 12 columns]"
            ]
          },
          "metadata": {},
          "execution_count": 17
        }
      ]
    },
    {
      "cell_type": "markdown",
      "metadata": {
        "id": "5m-EIGpBHeVu"
      },
      "source": [
        "### **Check correlation**"
      ]
    },
    {
      "cell_type": "code",
      "metadata": {
        "colab": {
          "base_uri": "https://localhost:8080/",
          "height": 332
        },
        "id": "jeQc5EIwHcaw",
        "outputId": "4b41cafc-7951-4a10-bdd1-409a6f0aaf34"
      },
      "source": [
        "dataset.corr(method='pearson')"
      ],
      "execution_count": 18,
      "outputs": [
        {
          "output_type": "execute_result",
          "data": {
            "text/html": [
              "<div>\n",
              "<style scoped>\n",
              "    .dataframe tbody tr th:only-of-type {\n",
              "        vertical-align: middle;\n",
              "    }\n",
              "\n",
              "    .dataframe tbody tr th {\n",
              "        vertical-align: top;\n",
              "    }\n",
              "\n",
              "    .dataframe thead th {\n",
              "        text-align: right;\n",
              "    }\n",
              "</style>\n",
              "<table border=\"1\" class=\"dataframe\">\n",
              "  <thead>\n",
              "    <tr style=\"text-align: right;\">\n",
              "      <th></th>\n",
              "      <th>user_id</th>\n",
              "      <th>category_id</th>\n",
              "      <th>product_id</th>\n",
              "      <th>cart</th>\n",
              "      <th>remove_from_cart</th>\n",
              "      <th>view</th>\n",
              "      <th>price</th>\n",
              "      <th>purchase_status</th>\n",
              "      <th>dif_time</th>\n",
              "    </tr>\n",
              "  </thead>\n",
              "  <tbody>\n",
              "    <tr>\n",
              "      <th>user_id</th>\n",
              "      <td>1.000000</td>\n",
              "      <td>0.012940</td>\n",
              "      <td>-0.015513</td>\n",
              "      <td>-0.041761</td>\n",
              "      <td>-0.072045</td>\n",
              "      <td>0.025101</td>\n",
              "      <td>0.038125</td>\n",
              "      <td>-0.054653</td>\n",
              "      <td>-0.011755</td>\n",
              "    </tr>\n",
              "    <tr>\n",
              "      <th>category_id</th>\n",
              "      <td>0.012940</td>\n",
              "      <td>1.000000</td>\n",
              "      <td>0.012181</td>\n",
              "      <td>-0.023160</td>\n",
              "      <td>-0.015679</td>\n",
              "      <td>0.014077</td>\n",
              "      <td>0.008247</td>\n",
              "      <td>-0.011210</td>\n",
              "      <td>0.003573</td>\n",
              "    </tr>\n",
              "    <tr>\n",
              "      <th>product_id</th>\n",
              "      <td>-0.015513</td>\n",
              "      <td>0.012181</td>\n",
              "      <td>1.000000</td>\n",
              "      <td>0.006922</td>\n",
              "      <td>0.017858</td>\n",
              "      <td>0.003971</td>\n",
              "      <td>-0.020598</td>\n",
              "      <td>-0.005530</td>\n",
              "      <td>0.007877</td>\n",
              "    </tr>\n",
              "    <tr>\n",
              "      <th>cart</th>\n",
              "      <td>-0.041761</td>\n",
              "      <td>-0.023160</td>\n",
              "      <td>0.006922</td>\n",
              "      <td>1.000000</td>\n",
              "      <td>0.366182</td>\n",
              "      <td>-0.092956</td>\n",
              "      <td>-0.109674</td>\n",
              "      <td>0.274387</td>\n",
              "      <td>0.024585</td>\n",
              "    </tr>\n",
              "    <tr>\n",
              "      <th>remove_from_cart</th>\n",
              "      <td>-0.072045</td>\n",
              "      <td>-0.015679</td>\n",
              "      <td>0.017858</td>\n",
              "      <td>0.366182</td>\n",
              "      <td>1.000000</td>\n",
              "      <td>-0.075017</td>\n",
              "      <td>-0.086902</td>\n",
              "      <td>-0.059450</td>\n",
              "      <td>0.026439</td>\n",
              "    </tr>\n",
              "    <tr>\n",
              "      <th>view</th>\n",
              "      <td>0.025101</td>\n",
              "      <td>0.014077</td>\n",
              "      <td>0.003971</td>\n",
              "      <td>-0.092956</td>\n",
              "      <td>-0.075017</td>\n",
              "      <td>1.000000</td>\n",
              "      <td>0.092727</td>\n",
              "      <td>-0.050957</td>\n",
              "      <td>0.414616</td>\n",
              "    </tr>\n",
              "    <tr>\n",
              "      <th>price</th>\n",
              "      <td>0.038125</td>\n",
              "      <td>0.008247</td>\n",
              "      <td>-0.020598</td>\n",
              "      <td>-0.109674</td>\n",
              "      <td>-0.086902</td>\n",
              "      <td>0.092727</td>\n",
              "      <td>1.000000</td>\n",
              "      <td>-0.078181</td>\n",
              "      <td>0.032375</td>\n",
              "    </tr>\n",
              "    <tr>\n",
              "      <th>purchase_status</th>\n",
              "      <td>-0.054653</td>\n",
              "      <td>-0.011210</td>\n",
              "      <td>-0.005530</td>\n",
              "      <td>0.274387</td>\n",
              "      <td>-0.059450</td>\n",
              "      <td>-0.050957</td>\n",
              "      <td>-0.078181</td>\n",
              "      <td>1.000000</td>\n",
              "      <td>0.028004</td>\n",
              "    </tr>\n",
              "    <tr>\n",
              "      <th>dif_time</th>\n",
              "      <td>-0.011755</td>\n",
              "      <td>0.003573</td>\n",
              "      <td>0.007877</td>\n",
              "      <td>0.024585</td>\n",
              "      <td>0.026439</td>\n",
              "      <td>0.414616</td>\n",
              "      <td>0.032375</td>\n",
              "      <td>0.028004</td>\n",
              "      <td>1.000000</td>\n",
              "    </tr>\n",
              "  </tbody>\n",
              "</table>\n",
              "</div>"
            ],
            "text/plain": [
              "                   user_id  category_id  ...  purchase_status  dif_time\n",
              "user_id           1.000000     0.012940  ...        -0.054653 -0.011755\n",
              "category_id       0.012940     1.000000  ...        -0.011210  0.003573\n",
              "product_id       -0.015513     0.012181  ...        -0.005530  0.007877\n",
              "cart             -0.041761    -0.023160  ...         0.274387  0.024585\n",
              "remove_from_cart -0.072045    -0.015679  ...        -0.059450  0.026439\n",
              "view              0.025101     0.014077  ...        -0.050957  0.414616\n",
              "price             0.038125     0.008247  ...        -0.078181  0.032375\n",
              "purchase_status  -0.054653    -0.011210  ...         1.000000  0.028004\n",
              "dif_time         -0.011755     0.003573  ...         0.028004  1.000000\n",
              "\n",
              "[9 rows x 9 columns]"
            ]
          },
          "metadata": {},
          "execution_count": 18
        }
      ]
    },
    {
      "cell_type": "markdown",
      "metadata": {
        "id": "T7FgG_eD1rcv"
      },
      "source": [
        "### **Finding**\n",
        "*   'cart' 장바구니에 담은 총 횟수가 구매 여부와 높은 상관 관계를 가지고 있습니다. "
      ]
    },
    {
      "cell_type": "markdown",
      "metadata": {
        "id": "Z-j55AaSFUkl"
      },
      "source": [
        "### **Modeling**"
      ]
    },
    {
      "cell_type": "code",
      "metadata": {
        "id": "jzdQf6KyFCAz"
      },
      "source": [
        "dataset['pur_time'] = pd.to_datetime(dataset['first_time']).map(dt.datetime.toordinal)\n",
        "dataset['first_time'] = pd.to_datetime(dataset['first_time']).map(dt.datetime.toordinal)\n",
        "dataset['last_time'] = pd.to_datetime(dataset['last_time']).map(dt.datetime.toordinal)"
      ],
      "execution_count": 19,
      "outputs": []
    },
    {
      "cell_type": "code",
      "metadata": {
        "colab": {
          "base_uri": "https://localhost:8080/"
        },
        "id": "8njjiWidFCqT",
        "outputId": "e4db0eb3-31cb-4626-8e09-1e49f3e34705"
      },
      "source": [
        "# target baseline\n",
        "target = 'purchase_status'\n",
        "features = dataset.drop(columns=[target]).columns\n",
        "X_train = dataset[features]\n",
        "y_train = dataset[target]\n",
        "\n",
        "X_train, X_test, y_train, y_test = train_test_split(X_train, y_train, test_size=0.4, shuffle=False)\n",
        "\n",
        "major = y_train.mode()[0]\n",
        "y_pred = [major]*len(y_train)\n",
        "\n",
        "print('기준 모델 F1 score: {0:.4f}'.format(f1_score(y_train, y_pred)))\n",
        "print(classification_report(y_train, y_pred))\n",
        "\n",
        "# target 비율\n",
        "dataset[target].value_counts(normalize=True) # 데이터 불균형"
      ],
      "execution_count": 20,
      "outputs": [
        {
          "output_type": "stream",
          "name": "stdout",
          "text": [
            "기준 모델 F1 score: 0.0000\n",
            "              precision    recall  f1-score   support\n",
            "\n",
            "           0       0.87      1.00      0.93   2267403\n",
            "           1       0.00      0.00      0.00    324594\n",
            "\n",
            "    accuracy                           0.87   2591997\n",
            "   macro avg       0.44      0.50      0.47   2591997\n",
            "weighted avg       0.77      0.87      0.82   2591997\n",
            "\n"
          ]
        },
        {
          "output_type": "execute_result",
          "data": {
            "text/plain": [
              "0    0.887041\n",
              "1    0.112959\n",
              "Name: purchase_status, dtype: float64"
            ]
          },
          "metadata": {},
          "execution_count": 20
        }
      ]
    },
    {
      "cell_type": "code",
      "metadata": {
        "id": "09ms9eR5FE55"
      },
      "source": [
        "X_train, X_test, y_train, y_test = train_test_split(X_train, y_train, test_size=0.4, shuffle=False)"
      ],
      "execution_count": 21,
      "outputs": []
    },
    {
      "cell_type": "code",
      "metadata": {
        "id": "jcmWK_6mFHOT",
        "colab": {
          "base_uri": "https://localhost:8080/"
        },
        "outputId": "e3db5983-caf4-44f5-eac9-940b9b3d9a7f"
      },
      "source": [
        "# XGB Classifier\n",
        "model1 = XGBClassifier(max_depth=10, scale_pos_weight=99)\n",
        "\n",
        "model1.fit(X_train, y_train);\n",
        "\n",
        "pred_xgb = model1.predict(X_test)\n",
        "\n",
        "accuracy = accuracy_score(y_test, pred_xgb)\n",
        "print(\"Accuracy: %.2f%%\" % (accuracy * 100.0))\n",
        "print('F1 score: ', f1_score(y_test, pred_xgb))\n",
        "print(classification_report(y_test, pred_xgb))"
      ],
      "execution_count": 22,
      "outputs": [
        {
          "output_type": "stream",
          "name": "stdout",
          "text": [
            "Accuracy: 69.05%\n",
            "F1 score:  0.40841144239349264\n",
            "              precision    recall  f1-score   support\n",
            "\n",
            "           0       0.99      0.66      0.79    918729\n",
            "           1       0.26      0.94      0.41    118070\n",
            "\n",
            "    accuracy                           0.69   1036799\n",
            "   macro avg       0.62      0.80      0.60   1036799\n",
            "weighted avg       0.91      0.69      0.75   1036799\n",
            "\n"
          ]
        }
      ]
    },
    {
      "cell_type": "code",
      "metadata": {
        "id": "xAMl2S-rFI4E"
      },
      "source": [
        "# GridSearchCV\n",
        "params = {'max_depth': [5, 10, 15],\n",
        "          'min_child_weight': [1,3,5],\n",
        "          'n_estimators': [100,200,500],\n",
        "          'scale_pos_weight': [1, 0.1, 0.01]}\n",
        "m = XGBClassifier(class_weight='balanced')\n",
        "grid_cv = GridSearchCV(m, param_grid=params, scoring='f1', cv=3)\n",
        "grid_cv.fit(X_train, y_train)\n",
        "\n",
        "best1 = grid_cv.best_estimator_\n",
        "pred1 = best1.predict(X_test)\n",
        "print(best1)\n",
        "\n",
        "accuracy = accuracy_score(y_test, pred1)\n",
        "print('Accuracy: %.2f%%' % (accuracy * 100.0))\n",
        "print('F1 score: ', f1_score(y_test, pred1))\n",
        "print(classification_report(y_test, pred1))"
      ],
      "execution_count": 23,
      "outputs": []
    },
    {
      "cell_type": "code",
      "metadata": {
        "id": "6Bz7tfayFKvi",
        "colab": {
          "base_uri": "https://localhost:8080/",
          "height": 390
        },
        "outputId": "ea4ea67a-b501-44b8-839e-ae32d2a5493b"
      },
      "source": [
        "# Feature Importance\n",
        "importances_xgb = pd.Series(model1.feature_importances_, X_train.columns)\n",
        "\n",
        "plt.figure(figsize=(10, 6))\n",
        "plt.title(f'Top {5} features')\n",
        "importances_xgb.sort_values()[-10:].plot.barh();"
      ],
      "execution_count": 24,
      "outputs": [
        {
          "output_type": "display_data",
          "data": {
            "image/png": "[encoded data removed]",
            "text/plain": [
              "<Figure size 720x432 with 1 Axes>"
            ]
          },
          "metadata": {
            "needs_background": "light"
          }
        }
      ]
    },
    {
      "cell_type": "markdown",
      "metadata": {
        "id": "97bdKpOI2ITU"
      },
      "source": [
        "### **Finding**\n",
        "*   'cart' 장바구니에 담은 총 횟수가 구매 여부와 높은 특성 유사도를 보입니다."
      ]
    },
    {
      "cell_type": "code",
      "metadata": {
        "id": "NPZ13yroFMcX",
        "colab": {
          "base_uri": "https://localhost:8080/"
        },
        "outputId": "66ecbca7-f4e0-4e36-c43e-8502051388ff"
      },
      "source": [
        "## 데이터 불균형 해결(1)\n",
        "# SMOTE\n",
        "sm = SMOTE(random_state=42)\n",
        "X_smote, y_smote = sm.fit_resample(X_train, y_train)\n",
        "\n",
        "model = XGBClassifier(max_depth=10, scale_pos_weight=99)\n",
        "xgb_smote = model.fit(X_smote, y_smote)\n",
        "\n",
        "pred_over = xgb_smote.predict(X_test)\n",
        "\n",
        "accuracy = accuracy_score(y_test, pred_over)\n",
        "print(\"Accuracy: %.2f%%\" % (accuracy * 100.0))\n",
        "print('검증 정확도: ', f1_score(y_test, pred_over))\n",
        "print(classification_report(y_test, pred_over))"
      ],
      "execution_count": 25,
      "outputs": [
        {
          "output_type": "stream",
          "name": "stdout",
          "text": [
            "Accuracy: 73.52%\n",
            "검증 정확도:  0.4517675158917662\n",
            "              precision    recall  f1-score   support\n",
            "\n",
            "           0       0.99      0.71      0.83    918729\n",
            "           1       0.30      0.96      0.45    118070\n",
            "\n",
            "    accuracy                           0.74   1036799\n",
            "   macro avg       0.64      0.83      0.64   1036799\n",
            "weighted avg       0.91      0.74      0.78   1036799\n",
            "\n"
          ]
        }
      ]
    },
    {
      "cell_type": "code",
      "metadata": {
        "id": "iNdDNqCeFe9L",
        "colab": {
          "base_uri": "https://localhost:8080/"
        },
        "outputId": "3d0fa137-e93d-4b0b-a194-e3730eb8174b"
      },
      "source": [
        "## 데이터 불균형 해결(2)\n",
        "# RandomOverSampling\n",
        "oversample = RandomOverSampler(sampling_strategy=0.5)\n",
        "X_over, y_over = oversample.fit_resample(X_train, y_train)\n",
        "\n",
        "model = XGBClassifier(max_depth=10, scale_pos_weight=99)\n",
        "xgb_over = model.fit(X_over, y_over)\n",
        "\n",
        "pred_over = xgb_over.predict(X_test)\n",
        "\n",
        "accuracy = accuracy_score(y_test, pred_over)\n",
        "print(\"Accuracy: %.2f%%\" % (accuracy * 100.0))\n",
        "print('검증 정확도: ', f1_score(y_test, pred_over))\n",
        "print(classification_report(y_test, pred_over))"
      ],
      "execution_count": 26,
      "outputs": [
        {
          "output_type": "stream",
          "name": "stdout",
          "text": [
            "Accuracy: 65.20%\n",
            "검증 정확도:  0.37851031541377933\n",
            "              precision    recall  f1-score   support\n",
            "\n",
            "           0       0.99      0.62      0.76    918729\n",
            "           1       0.24      0.93      0.38    118070\n",
            "\n",
            "    accuracy                           0.65   1036799\n",
            "   macro avg       0.61      0.77      0.57   1036799\n",
            "weighted avg       0.90      0.65      0.72   1036799\n",
            "\n"
          ]
        }
      ]
    },
    {
      "cell_type": "code",
      "metadata": {
        "id": "_S5qXkEOFfiP",
        "colab": {
          "base_uri": "https://localhost:8080/"
        },
        "outputId": "d5a11185-0fd0-4b84-d50c-05e573a6a552"
      },
      "source": [
        "## 데이터 불균형 해결(3)\n",
        "# RandomUnderSampling\n",
        "undersample = RandomUnderSampler(sampling_strategy=0.5)\n",
        "X_under, y_under = undersample.fit_resample(X_train, y_train)\n",
        "\n",
        "model = DecisionTreeClassifier()\n",
        "xgb_under = model.fit(X_under, y_under)\n",
        "\n",
        "pred_under = xgb_under.predict(X_test)\n",
        "\n",
        "accuracy = accuracy_score(y_test, pred_under)\n",
        "print(\"Accuracy: %.2f%%\" % (accuracy * 100.0))\n",
        "print('검증 정확도: ', f1_score(y_test, pred_under))\n",
        "print(classification_report(y_test, pred_under))"
      ],
      "execution_count": 27,
      "outputs": [
        {
          "output_type": "stream",
          "name": "stdout",
          "text": [
            "Accuracy: 73.94%\n",
            "검증 정확도:  0.3742063997591115\n",
            "              precision    recall  f1-score   support\n",
            "\n",
            "           0       0.95      0.75      0.84    918729\n",
            "           1       0.26      0.68      0.37    118070\n",
            "\n",
            "    accuracy                           0.74   1036799\n",
            "   macro avg       0.60      0.72      0.60   1036799\n",
            "weighted avg       0.87      0.74      0.78   1036799\n",
            "\n"
          ]
        }
      ]
    },
    {
      "cell_type": "code",
      "metadata": {
        "id": "CqtAUCArFh19",
        "colab": {
          "base_uri": "https://localhost:8080/"
        },
        "outputId": "c39aff5d-7bee-43d1-fc5a-b805b5c65b10"
      },
      "source": [
        "# Random Forest Classifier\n",
        "model2 = RandomForestClassifier(max_depth=5, class_weight='balanced')\n",
        "\n",
        "model2.fit(X_train, y_train);\n",
        "\n",
        "pred_rf = model2.predict(X_test)\n",
        "\n",
        "accuracy = accuracy_score(y_test, pred_rf)\n",
        "print('Accuracy: %.2f%%' % (accuracy * 100.0))\n",
        "print('F1 score: ', f1_score(y_test, pred_rf))\n",
        "print(classification_report(y_test, pred_rf))"
      ],
      "execution_count": 28,
      "outputs": [
        {
          "output_type": "stream",
          "name": "stdout",
          "text": [
            "Accuracy: 81.73%\n",
            "F1 score:  0.541489642417068\n",
            "              precision    recall  f1-score   support\n",
            "\n",
            "           0       0.99      0.80      0.89    918729\n",
            "           1       0.38      0.95      0.54    118070\n",
            "\n",
            "    accuracy                           0.82   1036799\n",
            "   macro avg       0.69      0.87      0.71   1036799\n",
            "weighted avg       0.92      0.82      0.85   1036799\n",
            "\n"
          ]
        }
      ]
    },
    {
      "cell_type": "code",
      "metadata": {
        "id": "EPIR81daFjjQ",
        "colab": {
          "base_uri": "https://localhost:8080/"
        },
        "outputId": "b202d352-4e2a-4828-f301-bd99b1928885"
      },
      "source": [
        "# GridSearchCV\n",
        "params = {\n",
        "    'max_depth' : [5, 8, 10],\n",
        "    'min_samples_split' : [16, 24]\n",
        "}\n",
        "\n",
        "m = RandomForestClassifier(class_weight='balanced')\n",
        "grid_cv = GridSearchCV(m, param_grid=params, scoring='f1', cv=3)\n",
        "grid_cv.fit(X_train, y_train)\n",
        "\n",
        "best2 = grid_cv.best_estimator_\n",
        "pred2 = best2.predict(X_test)\n",
        "print(best2)\n",
        "\n",
        "accuracy = accuracy_score(y_test, pred2)\n",
        "print('Accuracy: %.2f%%' % (accuracy * 100.0))\n",
        "print('F1 score: ', f1_score(y_test, pred2))\n",
        "print(classification_report(y_test, pred2))"
      ],
      "execution_count": 29,
      "outputs": [
        {
          "output_type": "stream",
          "name": "stdout",
          "text": [
            "RandomForestClassifier(class_weight='balanced', max_depth=8,\n",
            "                       min_samples_split=16)\n",
            "Accuracy: 83.06%\n",
            "F1 score:  0.5587891787624044\n",
            "              precision    recall  f1-score   support\n",
            "\n",
            "           0       0.99      0.82      0.90    918729\n",
            "           1       0.40      0.94      0.56    118070\n",
            "\n",
            "    accuracy                           0.83   1036799\n",
            "   macro avg       0.69      0.88      0.73   1036799\n",
            "weighted avg       0.92      0.83      0.86   1036799\n",
            "\n"
          ]
        }
      ]
    },
    {
      "cell_type": "code",
      "metadata": {
        "id": "L9xr6Ky2Fldl",
        "colab": {
          "base_uri": "https://localhost:8080/"
        },
        "outputId": "a7aa7df9-1c49-486d-ac24-8d6b92523d37"
      },
      "source": [
        "## 데이터 불균형 해결(1)\n",
        "# RandomOverSampling\n",
        "oversample = RandomOverSampler(sampling_strategy=0.5)\n",
        "X_over, y_over = oversample.fit_resample(X_train, y_train)\n",
        "\n",
        "model = RandomForestClassifier(max_depth=5, class_weight='balanced')\n",
        "rf_over = model.fit(X_over, y_over)\n",
        "\n",
        "pred_over = rf_over.predict(X_test)\n",
        "\n",
        "accuracy = accuracy_score(y_test, pred_over)\n",
        "print(\"Accuracy: %.2f%%\" % (accuracy * 100.0))\n",
        "print('검증 정확도: ', f1_score(y_test, pred_over))\n",
        "print(classification_report(y_test, pred_over))"
      ],
      "execution_count": 30,
      "outputs": [
        {
          "output_type": "stream",
          "name": "stdout",
          "text": [
            "Accuracy: 82.22%\n",
            "검증 정확도:  0.5479239692207312\n",
            "              precision    recall  f1-score   support\n",
            "\n",
            "           0       0.99      0.81      0.89    918729\n",
            "           1       0.39      0.95      0.55    118070\n",
            "\n",
            "    accuracy                           0.82   1036799\n",
            "   macro avg       0.69      0.88      0.72   1036799\n",
            "weighted avg       0.92      0.82      0.85   1036799\n",
            "\n"
          ]
        }
      ]
    },
    {
      "cell_type": "code",
      "metadata": {
        "id": "wXN2gr9rFnXj",
        "colab": {
          "base_uri": "https://localhost:8080/"
        },
        "outputId": "98523838-4f1f-40bd-979e-2979a9db3cfa"
      },
      "source": [
        "## 데이터 불균형 해결(2)\n",
        "# RandomUnderSampling\n",
        "undersample = RandomUnderSampler(sampling_strategy=0.5)\n",
        "X_under, y_under = undersample.fit_resample(X_train, y_train)\n",
        "\n",
        "model = RandomForestClassifier(max_depth=5, class_weight='balanced')\n",
        "rf_under = model.fit(X_under, y_under)\n",
        "\n",
        "pred_under = rf_under.predict(X_test)\n",
        "\n",
        "accuracy = accuracy_score(y_test, pred_under)\n",
        "print(\"Accuracy: %.2f%%\" % (accuracy * 100.0))\n",
        "print('검증 정확도: ', f1_score(y_test, pred_under))\n",
        "print(classification_report(y_test, pred_under))"
      ],
      "execution_count": 31,
      "outputs": [
        {
          "output_type": "stream",
          "name": "stdout",
          "text": [
            "Accuracy: 81.46%\n",
            "검증 정확도:  0.5379062673522222\n",
            "              precision    recall  f1-score   support\n",
            "\n",
            "           0       0.99      0.80      0.88    918729\n",
            "           1       0.38      0.95      0.54    118070\n",
            "\n",
            "    accuracy                           0.81   1036799\n",
            "   macro avg       0.68      0.87      0.71   1036799\n",
            "weighted avg       0.92      0.81      0.84   1036799\n",
            "\n"
          ]
        }
      ]
    },
    {
      "cell_type": "code",
      "metadata": {
        "id": "QiUbWKxUFo8m",
        "colab": {
          "base_uri": "https://localhost:8080/",
          "height": 390
        },
        "outputId": "8d385947-7380-4e45-fe6f-33e6b04f346c"
      },
      "source": [
        "# Feature Importance\n",
        "importances_rf = pd.Series(model2.feature_importances_, X_train.columns)\n",
        "\n",
        "plt.figure(figsize=(10, 6))\n",
        "plt.title(f'Top {5} features')\n",
        "importances_rf.sort_values()[-10:].plot.barh();"
      ],
      "execution_count": 32,
      "outputs": [
        {
          "output_type": "display_data",
          "data": {
            "image/png": "[encoded data removed]",
            "text/plain": [
              "<Figure size 720x432 with 1 Axes>"
            ]
          },
          "metadata": {
            "needs_background": "light"
          }
        }
      ]
    },
    {
      "cell_type": "markdown",
      "metadata": {
        "id": "Gp1oaM3O2Zh7"
      },
      "source": [
        "### **Finding**\n",
        "*   'cart' 장바구니에 담은 총 횟수가 구매 여부와 높은 특성 유사도를 보입니다."
      ]
    },
    {
      "cell_type": "code",
      "metadata": {
        "id": "sdrfnItDFqzC",
        "colab": {
          "base_uri": "https://localhost:8080/"
        },
        "outputId": "f9f0335c-092a-4774-f21c-0c08a51f7502"
      },
      "source": [
        "# Decision Tree Classifier\n",
        "model3 = DecisionTreeClassifier(max_depth=10, class_weight='balanced')\n",
        "\n",
        "model3.fit(X_train, y_train);\n",
        "\n",
        "pred_dt = model3.predict(X_test)\n",
        "\n",
        "accuracy = accuracy_score(y_test, pred_dt)\n",
        "print('Accuracy: %.2f%%' % (accuracy * 100.0))\n",
        "print('F1 score: ', f1_score(y_test, pred_dt))\n",
        "print(classification_report(y_test, pred_dt))"
      ],
      "execution_count": 33,
      "outputs": [
        {
          "output_type": "stream",
          "name": "stdout",
          "text": [
            "Accuracy: 80.51%\n",
            "F1 score:  0.519413677218035\n",
            "              precision    recall  f1-score   support\n",
            "\n",
            "           0       0.99      0.79      0.88    918729\n",
            "           1       0.36      0.92      0.52    118070\n",
            "\n",
            "    accuracy                           0.81   1036799\n",
            "   macro avg       0.67      0.86      0.70   1036799\n",
            "weighted avg       0.92      0.81      0.84   1036799\n",
            "\n"
          ]
        }
      ]
    },
    {
      "cell_type": "code",
      "metadata": {
        "id": "z-dV3fgkFsVp",
        "colab": {
          "base_uri": "https://localhost:8080/",
          "height": 295
        },
        "outputId": "69f1cd28-afac-4a44-c3a0-a05d155fb98b"
      },
      "source": [
        "import numpy as np\n",
        "import pandas as pd\n",
        "import matplotlib.pyplot as plt\n",
        "import seaborn as sns\n",
        "from sklearn.datasets import make_classification\n",
        "from sklearn.ensemble import RandomForestClassifier\n",
        "from sklearn.model_selection import train_test_split\n",
        "from sklearn.metrics import roc_curve\n",
        "\n",
        "def plot_roc_curve(fper, tper):\n",
        "    plt.plot(fper, tper, color='red', label='ROC')\n",
        "    plt.plot([0, 1], [0, 1], color='green', linestyle='--')\n",
        "    plt.xlabel('False Positive Rate')\n",
        "    plt.ylabel('True Positive Rate')\n",
        "    plt.title('Receiver Operating Characteristic Curve')\n",
        "    plt.legend()\n",
        "    plt.show()\n",
        "    \n",
        "model =DecisionTreeClassifier(max_depth=10, class_weight='balanced')\n",
        "model.fit(X_train, y_train)\n",
        "\n",
        "prob = model.predict_proba(X_test)\n",
        "prob = prob[:, 1]\n",
        "fper, tper, thresholds = roc_curve(y_test, prob)\n",
        "plot_roc_curve(fper, tper)"
      ],
      "execution_count": 34,
      "outputs": [
        {
          "output_type": "display_data",
          "data": {
            "image/png": "[encoded data removed]",
            "text/plain": [
              "<Figure size 432x288 with 1 Axes>"
            ]
          },
          "metadata": {
            "needs_background": "light"
          }
        }
      ]
    },
    {
      "cell_type": "markdown",
      "metadata": {
        "id": "4w5qF4Et3scy"
      },
      "source": [
        "### **Finding**\n",
        "*   ROC 커브의 밑면적 AUC의 넓이가 넓을 수록 그 모델의 성능이 좋다는 것을 의미한다."
      ]
    },
    {
      "cell_type": "code",
      "metadata": {
        "id": "xn1NC0JuFuDU",
        "colab": {
          "base_uri": "https://localhost:8080/",
          "height": 390
        },
        "outputId": "dbe408d0-c54b-421f-ca4e-218da7b3ca07"
      },
      "source": [
        "# Feature Importance\n",
        "importances_dt = pd.Series(model3.feature_importances_, X_train.columns)\n",
        "\n",
        "plt.figure(figsize=(10, 6))\n",
        "plt.title(f'Top {5} features')\n",
        "importances_dt.sort_values()[-10:].plot.barh();"
      ],
      "execution_count": 35,
      "outputs": [
        {
          "output_type": "display_data",
          "data": {
            "image/png": "[encoded data removed]",
            "text/plain": [
              "<Figure size 720x432 with 1 Axes>"
            ]
          },
          "metadata": {
            "needs_background": "light"
          }
        }
      ]
    },
    {
      "cell_type": "markdown",
      "metadata": {
        "id": "0ok2P2GK2cfS"
      },
      "source": [
        "### **Finding**\n",
        "*   'cart' 장바구니에 담은 총 횟수가 구매 여부와 높은 특성 유사도를 보입니다."
      ]
    },
    {
      "cell_type": "code",
      "metadata": {
        "id": "EqEv3DBfFvaC",
        "colab": {
          "base_uri": "https://localhost:8080/"
        },
        "outputId": "e43fb8f6-3495-4086-d781-b038db7b0c51"
      },
      "source": [
        "## 데이터 불균형 해결(1)\n",
        "# SMOTE\n",
        "sm = SMOTE(sampling_strategy='auto', random_state=0)\n",
        "X_smote, y_smote = sm.fit_resample(X_train, y_train)\n",
        "\n",
        "model = DecisionTreeClassifier(max_depth=10, class_weight='balanced')\n",
        "dt_smote = model.fit(X_smote, y_smote)\n",
        "\n",
        "pred_over = dt_smote.predict(X_test)\n",
        "\n",
        "accuracy = accuracy_score(y_test, pred_over)\n",
        "print(\"Accuracy: %.2f%%\" % (accuracy * 100.0))\n",
        "print('검증 정확도: ', f1_score(y_test, pred_over))\n",
        "print(classification_report(y_test, pred_over))"
      ],
      "execution_count": 36,
      "outputs": [
        {
          "output_type": "stream",
          "name": "stdout",
          "text": [
            "Accuracy: 84.09%\n",
            "검증 정확도:  0.5651486150877136\n",
            "              precision    recall  f1-score   support\n",
            "\n",
            "           0       0.99      0.83      0.90    918729\n",
            "           1       0.41      0.91      0.57    118070\n",
            "\n",
            "    accuracy                           0.84   1036799\n",
            "   macro avg       0.70      0.87      0.73   1036799\n",
            "weighted avg       0.92      0.84      0.86   1036799\n",
            "\n"
          ]
        }
      ]
    },
    {
      "cell_type": "code",
      "metadata": {
        "id": "D6w0qxiGFw7I",
        "colab": {
          "base_uri": "https://localhost:8080/"
        },
        "outputId": "1e586bf0-0d31-45d2-9550-ae1fdba44b1c"
      },
      "source": [
        "## 데이터 불균형 해결(2)\n",
        "# RandomUnderSampling\n",
        "undersample = RandomUnderSampler(sampling_strategy=0.5)\n",
        "X_under, y_under = undersample.fit_resample(X_train, y_train)\n",
        "\n",
        "model = DecisionTreeClassifier(max_depth=10, class_weight='balanced')\n",
        "dt_randomunder = model.fit(X_under, y_under)\n",
        "\n",
        "pred_under = dt_randomunder.predict(X_test)\n",
        "\n",
        "accuracy = accuracy_score(y_test, pred_under)\n",
        "print(\"Accuracy: %.2f%%\" % (accuracy * 100.0))\n",
        "print('검증 정확도: ', f1_score(y_test, pred_under))\n",
        "print(classification_report(y_test, pred_under))"
      ],
      "execution_count": 37,
      "outputs": [
        {
          "output_type": "stream",
          "name": "stdout",
          "text": [
            "Accuracy: 80.86%\n",
            "검증 정확도:  0.5264305619178501\n",
            "              precision    recall  f1-score   support\n",
            "\n",
            "           0       0.99      0.79      0.88    918729\n",
            "           1       0.37      0.93      0.53    118070\n",
            "\n",
            "    accuracy                           0.81   1036799\n",
            "   macro avg       0.68      0.86      0.70   1036799\n",
            "weighted avg       0.92      0.81      0.84   1036799\n",
            "\n"
          ]
        }
      ]
    },
    {
      "cell_type": "code",
      "metadata": {
        "id": "4bxuvgbPFyoY",
        "colab": {
          "base_uri": "https://localhost:8080/",
          "height": 647
        },
        "outputId": "7f4f9f45-ed68-42ac-b2c2-efe8453e7697"
      },
      "source": [
        "from pdpbox.pdp import pdp_isolate, pdp_plot\n",
        "from pdpbox.pdp import pdp_interact, pdp_interact_plot\n",
        "\n",
        "isolated = pdp_isolate(\n",
        "        model=model3,\n",
        "        dataset=X_train,\n",
        "        model_features=X_train.columns,\n",
        "        feature='cart',\n",
        "        grid_type='percentile',\n",
        "        num_grid_points= 10\n",
        "        )\n",
        "\n",
        "pdp_plot(isolated, feature_name='cart');"
      ],
      "execution_count": 38,
      "outputs": [
        {
          "output_type": "stream",
          "name": "stderr",
          "text": [
            "findfont: Font family ['Arial'] not found. Falling back to DejaVu Sans.\n",
            "findfont: Font family ['Arial'] not found. Falling back to DejaVu Sans.\n",
            "findfont: Font family ['Arial'] not found. Falling back to DejaVu Sans.\n",
            "findfont: Font family ['Arial'] not found. Falling back to DejaVu Sans.\n"
          ]
        },
        {
          "output_type": "display_data",
          "data": {
            "image/png": "[encoded data removed]",
            "text/plain": [
              "<Figure size 1080x684 with 2 Axes>"
            ]
          },
          "metadata": {
            "needs_background": "light"
          }
        }
      ]
    },
    {
      "cell_type": "markdown",
      "metadata": {
        "id": "5eiEH0ua2frB"
      },
      "source": [
        "### **Finding**\n",
        "*   'cart' 장바구니에 담은 총 횟수는 구매 여부와 양의 상관 관계를 보입니다."
      ]
    },
    {
      "cell_type": "code",
      "metadata": {
        "id": "GkI28AdzF0zN",
        "colab": {
          "base_uri": "https://localhost:8080/",
          "height": 579
        },
        "outputId": "58618b8b-251d-4297-c42e-7db726d4ffd9"
      },
      "source": [
        "from pdpbox.pdp import pdp_isolate, pdp_plot\n",
        "from pdpbox.pdp import pdp_interact, pdp_interact_plot\n",
        "\n",
        "isolated = pdp_isolate(\n",
        "        model=dt_smote,\n",
        "        dataset=X_train,\n",
        "        model_features=X_train.columns,\n",
        "        feature='remove_from_cart',\n",
        "        grid_type='percentile',\n",
        "        num_grid_points= 10\n",
        "        )\n",
        "\n",
        "pdp_plot(isolated, feature_name='remove_from_cart');"
      ],
      "execution_count": 39,
      "outputs": [
        {
          "output_type": "display_data",
          "data": {
            "image/png": "[encoded data removed]",
            "text/plain": [
              "<Figure size 1080x684 with 2 Axes>"
            ]
          },
          "metadata": {
            "needs_background": "light"
          }
        }
      ]
    },
    {
      "cell_type": "markdown",
      "metadata": {
        "id": "ZYJ7Xfwl3FJK"
      },
      "source": [
        "### **Finding**\n",
        "*   'remove_from_cart' 장바구니에서 제거한 횟수가 2 이상일 때, 구매 여부에 대한 긍정적인 확률(양의 상관 관계)이 높아지는 것을 알 수 있습니다."
      ]
    },
    {
      "cell_type": "code",
      "metadata": {
        "id": "FLAiwPwXF2kh",
        "colab": {
          "base_uri": "https://localhost:8080/",
          "height": 579
        },
        "outputId": "546ea85d-fcbb-4f53-ea4d-8d9f5bb5cd4d"
      },
      "source": [
        "from pdpbox.pdp import pdp_isolate, pdp_plot\n",
        "from pdpbox.pdp import pdp_interact, pdp_interact_plot\n",
        "\n",
        "isolated = pdp_isolate(\n",
        "        model=dt_smote,\n",
        "        dataset=X_train,\n",
        "        model_features=X_train.columns,\n",
        "        feature='pur_time',\n",
        "        grid_type='percentile',\n",
        "        num_grid_points= 10\n",
        "        )\n",
        "\n",
        "pdp_plot(isolated, feature_name='pur_time');"
      ],
      "execution_count": 40,
      "outputs": [
        {
          "output_type": "display_data",
          "data": {
            "image/png": "[encoded data removed]",
            "text/plain": [
              "<Figure size 1080x684 with 2 Axes>"
            ]
          },
          "metadata": {
            "needs_background": "light"
          }
        }
      ]
    },
    {
      "cell_type": "markdown",
      "metadata": {
        "id": "8zplvCjY2l5F"
      },
      "source": [
        "### **Finding**\n",
        "*   'pur_time' 구매한 시간은 구매 여부와 양의 상관 관계를 보입니다."
      ]
    }
  ]
}